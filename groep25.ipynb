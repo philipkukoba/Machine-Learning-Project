{
 "cells": [
  {
   "cell_type": "markdown",
   "source": [
    "# Project Machine Learning: Group 25\r\n",
    "### Peter Bonnarens, Lennert Franssens & Philip Kukoba"
   ],
   "metadata": {}
  },
  {
   "cell_type": "markdown",
   "source": [
    "# Sprint 1 : Tabular Data\r\n",
    "\r\n",
    "### Possible tasks:\r\n",
    "* Thorough exploratory data analysis, e.g.:\r\n",
    "    * Are there substantial price differences between neighbourhoods ?\r\n",
    "    * Are there hosts with more than one listing ? How does this impact the price ?\r\n",
    "    * What is the correlation between the review score and the price ?\r\n",
    "    * ...\r\n",
    "\r\n",
    "    Not enough to just show a plot! Clearly describe WHAT question you investigated, WHY you think this is a relevant question\r\n",
    "    and WHAT you deduce/conclude from the results of your data analysis\r\n",
    "\r\n",
    "* Are there outliers ?\r\n",
    "* A new Airbnb owner needs to pick an appropriate price:\r\n",
    "    * Train a model to predict the price based on a selection of features\r\n",
    "    * Find the most similar listings\r\n",
    "    \r\n",
    "* ..."
   ],
   "metadata": {}
  },
  {
   "cell_type": "markdown",
   "source": [
    "# Table of work (who did what)\r\n",
    "\r\n",
    "| X | Task 1 | Task 2 | Task 3 |\r\n",
    "| --- | --- | --- | --- |\r\n",
    "| Peter Bonnarens | | X | X |\r\n",
    "| Lennert Franssens | X | | X |\r\n",
    "| Philip Kukoba | X | X | |"
   ],
   "metadata": {}
  },
  {
   "cell_type": "markdown",
   "source": [
    "# Reading the dataset"
   ],
   "metadata": {}
  },
  {
   "cell_type": "code",
   "execution_count": 1,
   "source": [
    "# imports\r\n",
    "import numpy as np\r\n",
    "import matplotlib.pyplot as plt \r\n",
    "\r\n",
    "import pandas as pd  \r\n",
    "import seaborn as sns \r\n",
    "from matplotlib import rcParams\r\n",
    "\r\n",
    "# figure size in inches\r\n",
    "rcParams['figure.figsize'] = 20,16\r\n",
    "\r\n",
    "%matplotlib inline"
   ],
   "outputs": [],
   "metadata": {}
  }
 ],
 "metadata": {
  "orig_nbformat": 4,
  "language_info": {
   "name": "python",
   "version": "3.8.8",
   "mimetype": "text/x-python",
   "codemirror_mode": {
    "name": "ipython",
    "version": 3
   },
   "pygments_lexer": "ipython3",
   "nbconvert_exporter": "python",
   "file_extension": ".py"
  },
  "kernelspec": {
   "name": "python3",
   "display_name": "Python 3.8.8 64-bit ('base': conda)"
  },
  "interpreter": {
   "hash": "ece5b934e5507bb10d71fe477ed4928a6f8f0a8a03212c3c5909a754786da47a"
  }
 },
 "nbformat": 4,
 "nbformat_minor": 2
}