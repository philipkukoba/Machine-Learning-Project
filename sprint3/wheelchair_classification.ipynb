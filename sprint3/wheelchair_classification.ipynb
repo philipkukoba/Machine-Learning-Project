{
  "nbformat": 4,
  "nbformat_minor": 0,
  "metadata": {
    "colab": {
      "name": "ImageClassification.ipynb",
      "provenance": [],
      "collapsed_sections": []
    },
    "kernelspec": {
      "name": "python3",
      "display_name": "Python 3"
    },
    "language_info": {
      "name": "python"
    },
    "accelerator": "GPU"
  },
  "cells": [
    {
      "cell_type": "code",
      "source": [
        "from google.colab import drive\n",
        "drive.mount('/content/drive')"
      ],
      "metadata": {
        "colab": {
          "base_uri": "https://localhost:8080/"
        },
        "id": "GUKSn3QfJ_XM",
        "outputId": "9a459e4a-c396-48df-a61b-f010cdd66207"
      },
      "execution_count": null,
      "outputs": [
        {
          "output_type": "stream",
          "name": "stdout",
          "text": [
            "Drive already mounted at /content/drive; to attempt to forcibly remount, call drive.mount(\"/content/drive\", force_remount=True).\n"
          ]
        }
      ]
    },
    {
      "cell_type": "code",
      "source": [
        "import os\n",
        "import cv2\n",
        "from PIL import Image\n",
        "import tensorflow as tf\n",
        "from keras import backend as K\n",
        "from keras.models import load_model\n",
        "from keras.preprocessing.image import img_to_array\n",
        "from tensorflow.keras.optimizers import Adam, RMSprop\n",
        "from tensorflow.keras.callbacks import ReduceLROnPlateau\n",
        "from tensorflow.keras.preprocessing.image import ImageDataGenerator"
      ],
      "metadata": {
        "id": "WAhNGkyMKOZA"
      },
      "execution_count": null,
      "outputs": []
    },
    {
      "cell_type": "code",
      "source": [
        "base_dir = '/content/drive/MyDrive/UGent/Sem1/MachinaalLeren/sprint3/dataset'\n",
        "train_dir = '/content/drive/MyDrive/UGent/Sem1/MachinaalLeren/sprint3/dataset/train'\n",
        "train_nowheel_dir = '/content/drive/MyDrive/UGent/Sem1/MachinaalLeren/sprint3/dataset/train/nowheel'\n",
        "train_wheel_dir = '/content/drive/MyDrive/UGent/Sem1/MachinaalLeren/sprint3/dataset/train/wheel'\n",
        "test_dir = '/content/drive/MyDrive/UGent/Sem1/MachinaalLeren/sprint3/dataset/test'\n",
        "test_nowheel_dir = '/content/drive/MyDrive/UGent/Sem1/MachinaalLeren/sprint3/dataset/test/nowheel'\n",
        "test_wheel_dir = '/content/drive/MyDrive/UGent/Sem1/MachinaalLeren/sprint3/dataset/test/wheel'\n",
        "valid_dir = '/content/drive/MyDrive/UGent/Sem1/MachinaalLeren/sprint3/dataset/validation'\n",
        "valid_nowheel_dir = '/content/drive/MyDrive/UGent/Sem1/MachinaalLeren/sprint3/dataset/validation/nowheel'\n",
        "valid_wheel_dir = '/content/drive/MyDrive/UGent/Sem1/MachinaalLeren/sprint3/dataset/validation/wheel'"
      ],
      "metadata": {
        "id": "lreUcrU5KcEK"
      },
      "execution_count": null,
      "outputs": []
    },
    {
      "cell_type": "code",
      "source": [
        "num_nowheel_train = len(os.listdir(train_nowheel_dir))\n",
        "num_wheel_train = len(os.listdir(train_wheel_dir))\n",
        "num_nowheel_validation = len(os.listdir(valid_nowheel_dir))\n",
        "num_wheel_validation= len(os.listdir(valid_wheel_dir))\n",
        "num_nowheel_test = len(os.listdir(test_nowheel_dir))\n",
        "num_wheel_test= len(os.listdir(test_wheel_dir))"
      ],
      "metadata": {
        "id": "wRPFEqIPMDpY"
      },
      "execution_count": null,
      "outputs": []
    },
    {
      "cell_type": "code",
      "source": [
        "print(\"Total Training Nowheel Images\",num_nowheel_train)\n",
        "print(\"Total Training Wheel Images\",num_wheel_train)\n",
        "print(\"--\")\n",
        "print(\"Total validation Nowheel Images\",num_nowheel_validation)\n",
        "print(\"Total validation Wheel Images\",num_wheel_validation)\n",
        "print(\"--\")\n",
        "print(\"Total Test Nowheel Images\", num_nowheel_test)\n",
        "print(\"Total Test Wheel Images\",num_wheel_test)\n",
        "print(\"--\")\n",
        "total_train = num_nowheel_train+num_wheel_train\n",
        "total_validation = num_nowheel_validation+num_wheel_validation\n",
        "total_test = num_nowheel_test+num_wheel_test\n",
        "print(\"--\")\n",
        "print(\"Total Images\",total_train + total_validation + total_test)\n",
        "print(\"Total Training Images\",total_train)\n",
        "print(\"--\")\n",
        "print(\"Total Validation Images\",total_validation)\n",
        "print(\"--\")\n",
        "print(\"Total Testing Images\",total_test)"
      ],
      "metadata": {
        "id": "ayLF2ay2MWFs",
        "colab": {
          "base_uri": "https://localhost:8080/"
        },
        "outputId": "6aa06307-956f-4783-a831-026c8b87c3ff"
      },
      "execution_count": null,
      "outputs": [
        {
          "output_type": "stream",
          "name": "stdout",
          "text": [
            "Total Training Nowheel Images 427\n",
            "Total Training Wheel Images 2439\n",
            "--\n",
            "Total validation Nowheel Images 92\n",
            "Total validation Wheel Images 523\n",
            "--\n",
            "Total Test Nowheel Images 91\n",
            "Total Test Wheel Images 522\n",
            "--\n",
            "--\n",
            "Total Images 4094\n",
            "Total Training Images 2866\n",
            "--\n",
            "Total Validation Images 615\n",
            "--\n",
            "Total Testing Images 613\n"
          ]
        }
      ]
    },
    {
      "cell_type": "code",
      "source": [
        "IMG_SHAPE  = 224\n",
        "batch_size = 32"
      ],
      "metadata": {
        "id": "kvo-ydF8ttZH"
      },
      "execution_count": null,
      "outputs": []
    },
    {
      "cell_type": "code",
      "source": [
        "image_gen_train = ImageDataGenerator(rescale = 1./255)\n",
        "train_data_gen = image_gen_train.flow_from_directory(batch_size = batch_size,\n",
        "directory = train_dir,\n",
        "shuffle= True,\n",
        "target_size = (IMG_SHAPE,IMG_SHAPE),\n",
        "class_mode = 'binary')\n",
        "label_map = (train_data_gen.class_indices)\n",
        "\n",
        "image_generator_validation = ImageDataGenerator(rescale=1./255)\n",
        "val_data_gen = image_generator_validation.flow_from_directory(batch_size=batch_size,\n",
        "directory=valid_dir,\n",
        "target_size=(IMG_SHAPE, IMG_SHAPE),\n",
        "class_mode='binary')\n",
        "\n",
        "image_gen_test = ImageDataGenerator(rescale=1./255)\n",
        "test_data_gen = image_gen_test.flow_from_directory(batch_size=batch_size,\n",
        "directory=test_dir,\n",
        "target_size=(IMG_SHAPE, IMG_SHAPE),\n",
        "class_mode='binary')"
      ],
      "metadata": {
        "colab": {
          "base_uri": "https://localhost:8080/"
        },
        "id": "EKPPgCvstuS4",
        "outputId": "ac60549e-7036-406d-8825-f8cfb5876f68"
      },
      "execution_count": null,
      "outputs": [
        {
          "output_type": "stream",
          "name": "stdout",
          "text": [
            "Found 2866 images belonging to 2 classes.\n",
            "Found 615 images belonging to 2 classes.\n",
            "Found 613 images belonging to 2 classes.\n"
          ]
        }
      ]
    },
    {
      "cell_type": "code",
      "source": [
        "from glob import glob\n",
        "class_names = glob(train_dir + \"/*\")\n",
        "class_names = sorted(class_names)\n",
        "name_id_map = dict(zip(class_names, range(len(class_names))))\n",
        "print(name_id_map)"
      ],
      "metadata": {
        "colab": {
          "base_uri": "https://localhost:8080/"
        },
        "id": "rc21aFInTu5j",
        "outputId": "d729ad4f-2852-4a75-f524-041086dda0b3"
      },
      "execution_count": null,
      "outputs": [
        {
          "output_type": "stream",
          "name": "stdout",
          "text": [
            "{'/content/drive/MyDrive/UGent/Sem1/MachinaalLeren/sprint3/dataset/train/nowheel': 0, '/content/drive/MyDrive/UGent/Sem1/MachinaalLeren/sprint3/dataset/train/wheel': 1}\n"
          ]
        }
      ]
    },
    {
      "cell_type": "code",
      "source": [
        "pre_trained_model = tf.keras.applications.VGG16(input_shape=(224, 224, 3), include_top=False, weights=\"imagenet\")"
      ],
      "metadata": {
        "colab": {
          "base_uri": "https://localhost:8080/"
        },
        "id": "7NhLV9vTuC8v",
        "outputId": "61269cee-5fdd-4a55-ce82-79a18f65604b"
      },
      "execution_count": null,
      "outputs": [
        {
          "output_type": "stream",
          "name": "stdout",
          "text": [
            "Downloading data from https://storage.googleapis.com/tensorflow/keras-applications/vgg16/vgg16_weights_tf_dim_ordering_tf_kernels_notop.h5\n",
            "58892288/58889256 [==============================] - 0s 0us/step\n",
            "58900480/58889256 [==============================] - 0s 0us/step\n"
          ]
        }
      ]
    },
    {
      "cell_type": "code",
      "source": [
        "for layer in pre_trained_model.layers:\n",
        "  print(layer.name)\n",
        "  layer.trainable = False"
      ],
      "metadata": {
        "colab": {
          "base_uri": "https://localhost:8080/"
        },
        "id": "ZAJp5WmIuGZT",
        "outputId": "21a83eb3-ec48-4a36-e818-392fe51a5b4c"
      },
      "execution_count": null,
      "outputs": [
        {
          "output_type": "stream",
          "name": "stdout",
          "text": [
            "input_1\n",
            "block1_conv1\n",
            "block1_conv2\n",
            "block1_pool\n",
            "block2_conv1\n",
            "block2_conv2\n",
            "block2_pool\n",
            "block3_conv1\n",
            "block3_conv2\n",
            "block3_conv3\n",
            "block3_pool\n",
            "block4_conv1\n",
            "block4_conv2\n",
            "block4_conv3\n",
            "block4_pool\n",
            "block5_conv1\n",
            "block5_conv2\n",
            "block5_conv3\n",
            "block5_pool\n"
          ]
        }
      ]
    },
    {
      "cell_type": "code",
      "source": [
        "last_layer = pre_trained_model.get_layer('block5_pool')\n",
        "last_output = last_layer.output\n",
        "x = tf.keras.layers.GlobalMaxPooling2D()(last_output)\n",
        "x = tf.keras.layers.Dense(512, activation='relu')(x)\n",
        "x = tf.keras.layers.Dropout(0.5)(x)\n",
        "x = tf.keras.layers.Dense(2, activation='sigmoid')(x)"
      ],
      "metadata": {
        "id": "286BpyaWuJ49"
      },
      "execution_count": null,
      "outputs": []
    },
    {
      "cell_type": "code",
      "source": [
        "model = tf.keras.Model(pre_trained_model.input, x)"
      ],
      "metadata": {
        "id": "uvtmQAcmuYiu"
      },
      "execution_count": null,
      "outputs": []
    },
    {
      "cell_type": "code",
      "source": [
        "model.compile(optimizer='adam', loss=tf.keras.losses.sparse_categorical_crossentropy, metrics=['acc'])"
      ],
      "metadata": {
        "id": "JXM8OVdlubzx"
      },
      "execution_count": null,
      "outputs": []
    },
    {
      "cell_type": "code",
      "source": [
        "vgg_classifier = model.fit(train_data_gen,\n",
        "steps_per_epoch=(total_train//batch_size),\n",
        "epochs = 50,\n",
        "validation_data=val_data_gen,\n",
        "validation_steps=(total_validation//batch_size),\n",
        "batch_size = batch_size,\n",
        "verbose = 1)"
      ],
      "metadata": {
        "colab": {
          "base_uri": "https://localhost:8080/"
        },
        "id": "WTM8zYL8ug07",
        "outputId": "ae2457b4-73d1-4da1-f030-7828a18035ee"
      },
      "execution_count": null,
      "outputs": [
        {
          "output_type": "stream",
          "name": "stdout",
          "text": [
            "Epoch 1/50\n",
            "89/89 [==============================] - 762s 8s/step - loss: 0.5193 - acc: 0.8232 - val_loss: 0.3479 - val_acc: 0.8701\n",
            "Epoch 2/50\n",
            "89/89 [==============================] - 40s 444ms/step - loss: 0.3647 - acc: 0.8603 - val_loss: 0.3218 - val_acc: 0.8766\n",
            "Epoch 3/50\n",
            "89/89 [==============================] - 40s 445ms/step - loss: 0.3398 - acc: 0.8641 - val_loss: 0.3155 - val_acc: 0.8717\n",
            "Epoch 4/50\n",
            "89/89 [==============================] - 41s 455ms/step - loss: 0.3132 - acc: 0.8783 - val_loss: 0.2833 - val_acc: 0.8849\n",
            "Epoch 5/50\n",
            "89/89 [==============================] - 40s 454ms/step - loss: 0.3018 - acc: 0.8850 - val_loss: 0.2869 - val_acc: 0.8783\n",
            "Epoch 6/50\n",
            "89/89 [==============================] - 40s 454ms/step - loss: 0.2960 - acc: 0.8804 - val_loss: 0.2804 - val_acc: 0.8849\n",
            "Epoch 7/50\n",
            "89/89 [==============================] - 40s 449ms/step - loss: 0.2883 - acc: 0.8888 - val_loss: 0.2683 - val_acc: 0.8882\n",
            "Epoch 8/50\n",
            "89/89 [==============================] - 40s 452ms/step - loss: 0.2670 - acc: 0.8980 - val_loss: 0.2878 - val_acc: 0.8717\n",
            "Epoch 9/50\n",
            "89/89 [==============================] - 40s 449ms/step - loss: 0.2665 - acc: 0.8927 - val_loss: 0.2623 - val_acc: 0.8947\n",
            "Epoch 10/50\n",
            "89/89 [==============================] - 39s 443ms/step - loss: 0.2530 - acc: 0.9040 - val_loss: 0.2742 - val_acc: 0.8849\n",
            "Epoch 11/50\n",
            "89/89 [==============================] - 39s 443ms/step - loss: 0.2437 - acc: 0.9023 - val_loss: 0.3400 - val_acc: 0.8536\n",
            "Epoch 12/50\n",
            "89/89 [==============================] - 40s 446ms/step - loss: 0.2568 - acc: 0.8913 - val_loss: 0.2948 - val_acc: 0.8816\n",
            "Epoch 13/50\n",
            "89/89 [==============================] - 40s 451ms/step - loss: 0.2359 - acc: 0.9068 - val_loss: 0.2525 - val_acc: 0.8947\n",
            "Epoch 14/50\n",
            "89/89 [==============================] - 40s 452ms/step - loss: 0.2251 - acc: 0.9111 - val_loss: 0.2470 - val_acc: 0.8980\n",
            "Epoch 15/50\n",
            "89/89 [==============================] - 40s 444ms/step - loss: 0.2194 - acc: 0.9188 - val_loss: 0.2453 - val_acc: 0.9062\n",
            "Epoch 16/50\n",
            "89/89 [==============================] - 39s 440ms/step - loss: 0.1948 - acc: 0.9217 - val_loss: 0.2463 - val_acc: 0.9030\n",
            "Epoch 17/50\n",
            "89/89 [==============================] - 39s 442ms/step - loss: 0.2077 - acc: 0.9217 - val_loss: 0.2946 - val_acc: 0.8882\n",
            "Epoch 18/50\n",
            "89/89 [==============================] - 39s 439ms/step - loss: 0.1923 - acc: 0.9231 - val_loss: 0.2333 - val_acc: 0.8980\n",
            "Epoch 19/50\n",
            "89/89 [==============================] - 39s 440ms/step - loss: 0.1876 - acc: 0.9287 - val_loss: 0.2360 - val_acc: 0.9030\n",
            "Epoch 20/50\n",
            "89/89 [==============================] - 40s 444ms/step - loss: 0.1729 - acc: 0.9337 - val_loss: 0.2291 - val_acc: 0.9079\n",
            "Epoch 21/50\n",
            "89/89 [==============================] - 39s 439ms/step - loss: 0.1783 - acc: 0.9312 - val_loss: 0.2528 - val_acc: 0.8898\n",
            "Epoch 22/50\n",
            "89/89 [==============================] - 39s 443ms/step - loss: 0.1835 - acc: 0.9308 - val_loss: 0.2342 - val_acc: 0.9112\n",
            "Epoch 23/50\n",
            "89/89 [==============================] - 39s 441ms/step - loss: 0.1653 - acc: 0.9404 - val_loss: 0.2368 - val_acc: 0.9145\n",
            "Epoch 24/50\n",
            "89/89 [==============================] - 39s 441ms/step - loss: 0.1679 - acc: 0.9351 - val_loss: 0.2248 - val_acc: 0.9046\n",
            "Epoch 25/50\n",
            "89/89 [==============================] - 39s 438ms/step - loss: 0.1375 - acc: 0.9502 - val_loss: 0.2256 - val_acc: 0.9112\n",
            "Epoch 26/50\n",
            "89/89 [==============================] - 39s 440ms/step - loss: 0.1504 - acc: 0.9471 - val_loss: 0.2532 - val_acc: 0.9030\n",
            "Epoch 27/50\n",
            "89/89 [==============================] - 40s 444ms/step - loss: 0.1341 - acc: 0.9485 - val_loss: 0.2202 - val_acc: 0.9112\n",
            "Epoch 28/50\n",
            "89/89 [==============================] - 40s 444ms/step - loss: 0.1312 - acc: 0.9545 - val_loss: 0.2089 - val_acc: 0.9194\n",
            "Epoch 29/50\n",
            "89/89 [==============================] - 39s 441ms/step - loss: 0.1240 - acc: 0.9506 - val_loss: 0.2786 - val_acc: 0.8997\n",
            "Epoch 30/50\n",
            "89/89 [==============================] - 39s 438ms/step - loss: 0.1344 - acc: 0.9520 - val_loss: 0.2048 - val_acc: 0.9243\n",
            "Epoch 31/50\n",
            "89/89 [==============================] - 39s 438ms/step - loss: 0.1096 - acc: 0.9587 - val_loss: 0.2441 - val_acc: 0.9062\n",
            "Epoch 32/50\n",
            "89/89 [==============================] - 39s 438ms/step - loss: 0.1274 - acc: 0.9527 - val_loss: 0.2129 - val_acc: 0.9161\n",
            "Epoch 33/50\n",
            "89/89 [==============================] - 39s 438ms/step - loss: 0.1102 - acc: 0.9605 - val_loss: 0.2019 - val_acc: 0.9260\n",
            "Epoch 34/50\n",
            "89/89 [==============================] - 39s 435ms/step - loss: 0.1100 - acc: 0.9615 - val_loss: 0.2512 - val_acc: 0.9112\n",
            "Epoch 35/50\n",
            "89/89 [==============================] - 40s 443ms/step - loss: 0.1204 - acc: 0.9545 - val_loss: 0.2448 - val_acc: 0.9112\n",
            "Epoch 36/50\n",
            "89/89 [==============================] - 39s 440ms/step - loss: 0.1127 - acc: 0.9598 - val_loss: 0.2163 - val_acc: 0.9243\n",
            "Epoch 37/50\n",
            "89/89 [==============================] - 39s 440ms/step - loss: 0.1108 - acc: 0.9598 - val_loss: 0.2265 - val_acc: 0.9194\n",
            "Epoch 38/50\n",
            "89/89 [==============================] - 40s 445ms/step - loss: 0.1023 - acc: 0.9626 - val_loss: 0.2352 - val_acc: 0.9211\n",
            "Epoch 39/50\n",
            "89/89 [==============================] - 40s 444ms/step - loss: 0.0959 - acc: 0.9679 - val_loss: 0.2479 - val_acc: 0.9178\n",
            "Epoch 40/50\n",
            "89/89 [==============================] - 39s 436ms/step - loss: 0.1057 - acc: 0.9640 - val_loss: 0.2387 - val_acc: 0.9178\n",
            "Epoch 41/50\n",
            "89/89 [==============================] - 39s 436ms/step - loss: 0.1045 - acc: 0.9619 - val_loss: 0.2304 - val_acc: 0.9145\n",
            "Epoch 42/50\n",
            "89/89 [==============================] - 39s 437ms/step - loss: 0.0918 - acc: 0.9647 - val_loss: 0.2847 - val_acc: 0.9095\n",
            "Epoch 43/50\n",
            "89/89 [==============================] - 39s 439ms/step - loss: 0.0983 - acc: 0.9629 - val_loss: 0.2257 - val_acc: 0.9227\n",
            "Epoch 44/50\n",
            "89/89 [==============================] - 39s 437ms/step - loss: 0.0875 - acc: 0.9732 - val_loss: 0.2228 - val_acc: 0.9326\n",
            "Epoch 45/50\n",
            "89/89 [==============================] - 39s 436ms/step - loss: 0.0769 - acc: 0.9757 - val_loss: 0.2430 - val_acc: 0.9293\n",
            "Epoch 46/50\n",
            "89/89 [==============================] - 39s 436ms/step - loss: 0.0838 - acc: 0.9704 - val_loss: 0.2664 - val_acc: 0.9161\n",
            "Epoch 47/50\n",
            "89/89 [==============================] - 39s 443ms/step - loss: 0.0793 - acc: 0.9732 - val_loss: 0.2642 - val_acc: 0.9128\n",
            "Epoch 48/50\n",
            "89/89 [==============================] - 39s 435ms/step - loss: 0.0811 - acc: 0.9682 - val_loss: 0.2266 - val_acc: 0.9276\n",
            "Epoch 49/50\n",
            "89/89 [==============================] - 39s 436ms/step - loss: 0.0760 - acc: 0.9767 - val_loss: 0.2324 - val_acc: 0.9293\n",
            "Epoch 50/50\n",
            "89/89 [==============================] - 39s 442ms/step - loss: 0.0751 - acc: 0.9778 - val_loss: 0.2245 - val_acc: 0.9276\n"
          ]
        }
      ]
    },
    {
      "cell_type": "code",
      "source": [
        "result = model.evaluate(test_data_gen,batch_size=batch_size)\n",
        "print(\"test_loss, test accuracy\",result)"
      ],
      "metadata": {
        "colab": {
          "base_uri": "https://localhost:8080/"
        },
        "id": "6loBeNUPuzd4",
        "outputId": "9b462d5c-35f6-4742-8d14-a5005cc33c6b"
      },
      "execution_count": null,
      "outputs": [
        {
          "output_type": "stream",
          "name": "stdout",
          "text": [
            "20/20 [==============================] - 401s 21s/step - loss: 0.2914 - acc: 0.9038\n",
            "test_loss, test accuracy [0.2913897633552551, 0.9037520289421082]\n"
          ]
        }
      ]
    },
    {
      "cell_type": "code",
      "source": [
        "from matplotlib import pyplot as plt\n",
        "plt.plot(vgg_classifier.history['acc'])\n",
        "plt.plot(vgg_classifier.history['val_acc'])\n",
        "plt.title('model accuracy')\n",
        "plt.ylabel('accuracy')\n",
        "plt.xlabel('epoch')\n",
        "plt.legend(['train', 'val'], loc='upper left')\n",
        "plt.show()"
      ],
      "metadata": {
        "colab": {
          "base_uri": "https://localhost:8080/",
          "height": 295
        },
        "id": "Jbhoh8eYV0AR",
        "outputId": "7baee256-3ece-412d-d1a6-da539d6ab56f"
      },
      "execution_count": null,
      "outputs": [
        {
          "output_type": "display_data",
          "data": {
            "image/png": "[encoded data removed]",
            "text/plain": [
              "<Figure size 432x288 with 1 Axes>"
            ]
          },
          "metadata": {
            "needs_background": "light"
          }
        }
      ]
    },
    {
      "cell_type": "code",
      "source": [
        "from matplotlib import pyplot as plt\n",
        "plt.plot(vgg_classifier.history['loss'])\n",
        "plt.plot(vgg_classifier.history['val_loss'])\n",
        "plt.title('model loss')\n",
        "plt.ylabel('loss')\n",
        "plt.xlabel('epoch')\n",
        "plt.legend(['train', 'val'], loc='upper left')\n",
        "plt.show()"
      ],
      "metadata": {
        "colab": {
          "base_uri": "https://localhost:8080/"
        },
        "id": "THfdlQWxWQnj",
        "outputId": "f8fb3108-a1e4-4664-dcaa-ba8b541d627a"
      },
      "execution_count": null,
      "outputs": [
        {
          "output_type": "display_data",
          "data": {
            "image/png": "[encoded data removed]",
            "text/plain": [
              "<Figure size 432x288 with 1 Axes>"
            ]
          },
          "metadata": {
            "needs_background": "light"
          }
        }
      ]
    },
    {
      "cell_type": "code",
      "source": [
        "model_json = model.to_json()\n",
        "with open(\"/content/drive/MyDrive/UGent/Sem1/MachinaalLeren/sprint3/VGG_Wheelchair_Classifier.json\", \"w\") as json_file:\n",
        "  json_file.write(model_json)\n",
        "  model.save(\"/content/drive/MyDrive/UGent/Sem1/MachinaalLeren/sprint3/VGG_Wheelchair_Classifier.h5\")\n",
        "  print(\"Saved model to disk\")\n",
        "  model.save_weights(\"/content/drive/MyDrive/UGent/Sem1/MachinaalLeren/sprint3/VGG_Wheelchair_Weights.h5\")"
      ],
      "metadata": {
        "colab": {
          "base_uri": "https://localhost:8080/"
        },
        "id": "UlctUrmnu4Rd",
        "outputId": "ce77b54e-f8c7-448f-ebc0-52cd2e8d1db5"
      },
      "execution_count": null,
      "outputs": [
        {
          "output_type": "stream",
          "name": "stdout",
          "text": [
            "Saved model to disk\n"
          ]
        }
      ]
    }
  ]
}