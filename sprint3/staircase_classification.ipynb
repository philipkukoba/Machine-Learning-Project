{
  "nbformat": 4,
  "nbformat_minor": 0,
  "metadata": {
    "colab": {
      "name": "StairDetection.ipynb",
      "provenance": []
    },
    "kernelspec": {
      "name": "python3",
      "display_name": "Python 3"
    },
    "language_info": {
      "name": "python"
    },
    "accelerator": "GPU"
  },
  "cells": [
    {
      "cell_type": "code",
      "execution_count": null,
      "metadata": {
        "colab": {
          "base_uri": "https://localhost:8080/"
        },
        "id": "0MPnBRjyJKlE",
        "outputId": "430fffc7-eae8-4ca4-a82e-cb3661cecd89"
      },
      "outputs": [
        {
          "output_type": "stream",
          "name": "stdout",
          "text": [
            "Drive already mounted at /content/drive; to attempt to forcibly remount, call drive.mount(\"/content/drive\", force_remount=True).\n"
          ]
        }
      ],
      "source": [
        "from google.colab import drive\n",
        "drive.mount('/content/drive')"
      ]
    },
    {
      "cell_type": "code",
      "source": [
        "import os\n",
        "import cv2\n",
        "from PIL import Image\n",
        "import tensorflow as tf\n",
        "from keras import backend as K\n",
        "from keras.models import load_model\n",
        "from keras.preprocessing.image import img_to_array\n",
        "from tensorflow.keras.optimizers import Adam, RMSprop\n",
        "from tensorflow.keras.callbacks import ReduceLROnPlateau\n",
        "from tensorflow.keras.preprocessing.image import ImageDataGenerator"
      ],
      "metadata": {
        "id": "Lh3l30N3JizF"
      },
      "execution_count": null,
      "outputs": []
    },
    {
      "cell_type": "code",
      "source": [
        "base_dir = '/content/drive/MyDrive/UGent/Sem1/MachinaalLeren/sprint3/collected_raw'\n",
        "train_dir = '/content/drive/MyDrive/UGent/Sem1/MachinaalLeren/sprint3/collected_raw/train'\n",
        "test_dir = '/content/drive/MyDrive/UGent/Sem1/MachinaalLeren/sprint3/collected_raw/test'\n",
        "val_dir = '/content/drive/MyDrive/UGent/Sem1/MachinaalLeren/sprint3/collected_raw/val'\n",
        "\n",
        "train_dir_neg = '/content/drive/MyDrive/UGent/Sem1/MachinaalLeren/sprint3/collected_raw/train/train_neg'\n",
        "train_dir_pos = '/content/drive/MyDrive/UGent/Sem1/MachinaalLeren/sprint3/collected_raw/train/train_pos'\n",
        "\n",
        "test_dir_neg = '/content/drive/MyDrive/UGent/Sem1/MachinaalLeren/sprint3/collected_raw/test/test_neg'\n",
        "test_dir_pos = '/content/drive/MyDrive/UGent/Sem1/MachinaalLeren/sprint3/collected_raw/test/test_pos'\n",
        "\n",
        "val_dir_neg = '/content/drive/MyDrive/UGent/Sem1/MachinaalLeren/sprint3/collected_raw/val/val_neg'\n",
        "val_dir_pos = '/content/drive/MyDrive/UGent/Sem1/MachinaalLeren/sprint3/collected_raw/val/val_pos'"
      ],
      "metadata": {
        "id": "Fe_CbPBCJlhR"
      },
      "execution_count": null,
      "outputs": []
    },
    {
      "cell_type": "code",
      "source": [
        "num_neg_train = len(os.listdir(train_dir_neg))\n",
        "num_neg_test = len(os.listdir(test_dir_neg))\n",
        "num_neg_val = len(os.listdir(val_dir_neg))\n",
        "\n",
        "num_pos_train = len(os.listdir(train_dir_pos))\n",
        "num_pos_test = len(os.listdir(test_dir_pos))\n",
        "num_pos_val = len(os.listdir(val_dir_pos))"
      ],
      "metadata": {
        "id": "VwTa0vBuLDpR"
      },
      "execution_count": null,
      "outputs": []
    },
    {
      "cell_type": "code",
      "source": [
        "print(\"Total Negative train Images\",num_neg_train)\n",
        "print(\"Total Negative test Images\",num_neg_test)\n",
        "print(\"Total Negative val Images\",num_neg_val)\n",
        "print(\"--\")\n",
        "print(\"Total Positive train Images\",num_pos_train)\n",
        "print(\"Total Positive test Images\",num_pos_test)\n",
        "print(\"Total Positive val Images\",num_pos_val)\n",
        "print(\"--\")\n",
        "\n",
        "total_train = num_neg_train + num_pos_train\n",
        "total_validation = num_neg_val + num_pos_val\n",
        "total_test = num_neg_test + num_pos_test\n",
        "\n",
        "print(\"--\")\n",
        "print(\"Total Images\",total_train + total_validation + total_test)\n",
        "print(\"Total Training Images\",total_train)\n",
        "print(\"--\")\n",
        "print(\"Total Validation Images\",total_validation)\n",
        "print(\"--\")\n",
        "print(\"Total Testing Images\",total_test)"
      ],
      "metadata": {
        "colab": {
          "base_uri": "https://localhost:8080/"
        },
        "id": "Qcc7V_ctLN4w",
        "outputId": "422916df-d4b8-44b9-f284-adc440b712b4"
      },
      "execution_count": null,
      "outputs": [
        {
          "output_type": "stream",
          "name": "stdout",
          "text": [
            "Total Negative train Images 251\n",
            "Total Negative test Images 54\n",
            "Total Negative val Images 54\n",
            "--\n",
            "Total Positive train Images 582\n",
            "Total Positive test Images 124\n",
            "Total Positive val Images 124\n",
            "--\n",
            "--\n",
            "Total Images 1189\n",
            "Total Training Images 833\n",
            "--\n",
            "Total Validation Images 178\n",
            "--\n",
            "Total Testing Images 178\n"
          ]
        }
      ]
    },
    {
      "cell_type": "code",
      "source": [
        "IMG_SHAPE  = 224\n",
        "batch_size = 32"
      ],
      "metadata": {
        "id": "PESH6IPBLWgk"
      },
      "execution_count": null,
      "outputs": []
    },
    {
      "cell_type": "code",
      "source": [
        "image_gen_train = ImageDataGenerator(rescale = 1./255)\n",
        "train_data_gen = image_gen_train.flow_from_directory(batch_size = batch_size,\n",
        "directory = train_dir,\n",
        "shuffle= True,\n",
        "target_size = (IMG_SHAPE,IMG_SHAPE),\n",
        "class_mode = 'binary')\n",
        "\n",
        "image_generator_validation = ImageDataGenerator(rescale=1./255)\n",
        "val_data_gen = image_generator_validation.flow_from_directory(batch_size=batch_size,\n",
        "directory=val_dir,\n",
        "target_size=(IMG_SHAPE, IMG_SHAPE),\n",
        "class_mode='binary')\n",
        "\n",
        "image_gen_test = ImageDataGenerator(rescale=1./255)\n",
        "test_data_gen = image_gen_test.flow_from_directory(batch_size=batch_size,\n",
        "directory=test_dir,\n",
        "target_size=(IMG_SHAPE, IMG_SHAPE),\n",
        "class_mode='binary')"
      ],
      "metadata": {
        "colab": {
          "base_uri": "https://localhost:8080/"
        },
        "id": "_tMk5UEMUcC2",
        "outputId": "084a8a00-6ccc-4b05-9ec9-f72d68a152b1"
      },
      "execution_count": null,
      "outputs": [
        {
          "output_type": "stream",
          "name": "stdout",
          "text": [
            "Found 833 images belonging to 2 classes.\n",
            "Found 178 images belonging to 2 classes.\n",
            "Found 178 images belonging to 2 classes.\n"
          ]
        }
      ]
    },
    {
      "cell_type": "code",
      "source": [
        "pre_trained_model = tf.keras.applications.VGG16(input_shape=(224, 224, 3), include_top=False, weights=\"imagenet\")"
      ],
      "metadata": {
        "id": "e4M7I0ZgWWeK"
      },
      "execution_count": null,
      "outputs": []
    },
    {
      "cell_type": "code",
      "source": [
        "for layer in pre_trained_model.layers:\n",
        "  print(layer.name)\n",
        "  layer.trainable = False"
      ],
      "metadata": {
        "colab": {
          "base_uri": "https://localhost:8080/"
        },
        "id": "WyQqOE6FWZE4",
        "outputId": "83f4a42d-cece-48da-c5a1-5717ce888d97"
      },
      "execution_count": null,
      "outputs": [
        {
          "output_type": "stream",
          "name": "stdout",
          "text": [
            "input_1\n",
            "block1_conv1\n",
            "block1_conv2\n",
            "block1_pool\n",
            "block2_conv1\n",
            "block2_conv2\n",
            "block2_pool\n",
            "block3_conv1\n",
            "block3_conv2\n",
            "block3_conv3\n",
            "block3_pool\n",
            "block4_conv1\n",
            "block4_conv2\n",
            "block4_conv3\n",
            "block4_pool\n",
            "block5_conv1\n",
            "block5_conv2\n",
            "block5_conv3\n",
            "block5_pool\n"
          ]
        }
      ]
    },
    {
      "cell_type": "code",
      "source": [
        "last_layer = pre_trained_model.get_layer('block5_pool')\n",
        "last_output = last_layer.output\n",
        "x = tf.keras.layers.GlobalMaxPooling2D()(last_output)\n",
        "x = tf.keras.layers.Dense(512, activation='relu')(x)\n",
        "x = tf.keras.layers.Dropout(0.5)(x)\n",
        "x = tf.keras.layers.Dense(2, activation='sigmoid')(x)"
      ],
      "metadata": {
        "id": "JVrvaUYGWbgI"
      },
      "execution_count": null,
      "outputs": []
    },
    {
      "cell_type": "code",
      "source": [
        "model = tf.keras.Model(pre_trained_model.input, x)"
      ],
      "metadata": {
        "id": "DXusE4RuWctG"
      },
      "execution_count": null,
      "outputs": []
    },
    {
      "cell_type": "code",
      "source": [
        "model.compile(optimizer='adam', loss=tf.keras.losses.sparse_categorical_crossentropy, metrics=['acc'])"
      ],
      "metadata": {
        "id": "VgP0n9nVWdxY"
      },
      "execution_count": null,
      "outputs": []
    },
    {
      "cell_type": "code",
      "source": [
        "vgg_classifier = model.fit(train_data_gen,\n",
        "steps_per_epoch=(total_train//batch_size),\n",
        "epochs = 20,\n",
        "validation_data=val_data_gen,\n",
        "validation_steps=(total_validation//batch_size),\n",
        "batch_size = batch_size,\n",
        "verbose = 1)"
      ],
      "metadata": {
        "colab": {
          "base_uri": "https://localhost:8080/"
        },
        "id": "iCIbhhF8WfJi",
        "outputId": "cd5cd18f-2638-4ff5-9c20-838b7a2f42fc"
      },
      "execution_count": null,
      "outputs": [
        {
          "output_type": "stream",
          "name": "stdout",
          "text": [
            "Epoch 1/20\n",
            "26/26 [==============================] - 23s 398ms/step - loss: 0.3669 - acc: 0.8577 - val_loss: 1.0082 - val_acc: 0.5750\n",
            "Epoch 2/20\n",
            "26/26 [==============================] - 9s 356ms/step - loss: 0.1397 - acc: 0.9451 - val_loss: 0.2769 - val_acc: 0.8750\n",
            "Epoch 3/20\n",
            "26/26 [==============================] - 9s 354ms/step - loss: 0.1012 - acc: 0.9526 - val_loss: 0.3616 - val_acc: 0.8375\n",
            "Epoch 4/20\n",
            "26/26 [==============================] - 9s 358ms/step - loss: 0.0628 - acc: 0.9775 - val_loss: 0.2722 - val_acc: 0.8813\n",
            "Epoch 5/20\n",
            "26/26 [==============================] - 10s 363ms/step - loss: 0.0491 - acc: 0.9813 - val_loss: 0.7981 - val_acc: 0.7000\n",
            "Epoch 6/20\n",
            "26/26 [==============================] - 9s 350ms/step - loss: 0.0551 - acc: 0.9775 - val_loss: 0.1522 - val_acc: 0.9438\n",
            "Epoch 7/20\n",
            "26/26 [==============================] - 9s 355ms/step - loss: 0.0349 - acc: 0.9875 - val_loss: 0.4685 - val_acc: 0.8062\n",
            "Epoch 8/20\n",
            "26/26 [==============================] - 9s 358ms/step - loss: 0.0273 - acc: 0.9925 - val_loss: 0.3407 - val_acc: 0.8875\n",
            "Epoch 9/20\n",
            "26/26 [==============================] - 9s 352ms/step - loss: 0.0151 - acc: 0.9988 - val_loss: 0.2212 - val_acc: 0.9062\n",
            "Epoch 10/20\n",
            "26/26 [==============================] - 9s 354ms/step - loss: 0.0181 - acc: 0.9925 - val_loss: 0.6201 - val_acc: 0.7937\n",
            "Epoch 11/20\n",
            "26/26 [==============================] - 9s 351ms/step - loss: 0.0151 - acc: 0.9963 - val_loss: 0.2883 - val_acc: 0.9000\n",
            "Epoch 12/20\n",
            "26/26 [==============================] - 9s 350ms/step - loss: 0.0142 - acc: 0.9963 - val_loss: 0.2457 - val_acc: 0.9000\n",
            "Epoch 13/20\n",
            "26/26 [==============================] - 9s 350ms/step - loss: 0.0120 - acc: 0.9975 - val_loss: 0.5580 - val_acc: 0.8250\n",
            "Epoch 14/20\n",
            "26/26 [==============================] - 9s 354ms/step - loss: 0.0126 - acc: 0.9988 - val_loss: 0.2205 - val_acc: 0.9375\n",
            "Epoch 15/20\n",
            "26/26 [==============================] - 9s 350ms/step - loss: 0.0087 - acc: 0.9988 - val_loss: 0.4212 - val_acc: 0.8625\n",
            "Epoch 16/20\n",
            "26/26 [==============================] - 9s 352ms/step - loss: 0.0081 - acc: 1.0000 - val_loss: 0.2942 - val_acc: 0.8875\n",
            "Epoch 17/20\n",
            "26/26 [==============================] - 9s 354ms/step - loss: 0.0101 - acc: 0.9975 - val_loss: 0.3956 - val_acc: 0.8625\n",
            "Epoch 18/20\n",
            "26/26 [==============================] - 9s 351ms/step - loss: 0.0044 - acc: 1.0000 - val_loss: 0.2334 - val_acc: 0.9187\n",
            "Epoch 19/20\n",
            "26/26 [==============================] - 9s 352ms/step - loss: 0.0048 - acc: 1.0000 - val_loss: 0.2590 - val_acc: 0.9000\n",
            "Epoch 20/20\n",
            "26/26 [==============================] - 9s 349ms/step - loss: 0.0037 - acc: 1.0000 - val_loss: 0.1906 - val_acc: 0.9250\n"
          ]
        }
      ]
    },
    {
      "cell_type": "code",
      "source": [
        "result = model.evaluate(test_data_gen,batch_size=batch_size)\n",
        "print(\"test_loss, test accuracy\",result)"
      ],
      "metadata": {
        "colab": {
          "base_uri": "https://localhost:8080/"
        },
        "id": "WUs-pO8tW9D8",
        "outputId": "0f0a7b2b-2d24-4c2d-fae3-a5e079926a5a"
      },
      "execution_count": null,
      "outputs": [
        {
          "output_type": "stream",
          "name": "stdout",
          "text": [
            "6/6 [==============================] - 9s 2s/step - loss: 0.4515 - acc: 0.8483\n",
            "test_loss, test accuracy [0.451523095369339, 0.8483145833015442]\n"
          ]
        }
      ]
    },
    {
      "cell_type": "code",
      "source": [
        "model_json = model.to_json()\n",
        "with open(\"/content/drive/MyDrive/UGent/Sem1/MachinaalLeren/sprint3/VGG_Stair_Detector.json\", \"w\") as json_file:\n",
        "  json_file.write(model_json)\n",
        "  model.save(\"/content/drive/MyDrive/UGent/Sem1/MachinaalLeren/sprint3/VGG_Stair_Detector.h5\")\n",
        "  print(\"Saved model to disk\")\n",
        "  model.save_weights(\"/content/drive/MyDrive/UGent/Sem1/MachinaalLeren/sprint3/VGG_Stair_Weights.h5\")"
      ],
      "metadata": {
        "colab": {
          "base_uri": "https://localhost:8080/"
        },
        "id": "IUrGu9HOXCCo",
        "outputId": "0accc991-eaff-4dd5-92f5-d6171bb22f56"
      },
      "execution_count": null,
      "outputs": [
        {
          "output_type": "stream",
          "name": "stdout",
          "text": [
            "Saved model to disk\n"
          ]
        }
      ]
    }
  ]
}