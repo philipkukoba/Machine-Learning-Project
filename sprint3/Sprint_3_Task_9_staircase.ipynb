{
  "nbformat": 4,
  "nbformat_minor": 0,
  "metadata": {
    "colab": {
      "name": "StairDetection.ipynb",
      "provenance": [],
      "collapsed_sections": []
    },
    "kernelspec": {
      "name": "python3",
      "display_name": "Python 3"
    },
    "language_info": {
      "name": "python"
    },
    "accelerator": "GPU"
  },
  "cells": [
    {
      "cell_type": "code",
      "execution_count": 1,
      "metadata": {
        "colab": {
          "base_uri": "https://localhost:8080/"
        },
        "id": "0MPnBRjyJKlE",
        "outputId": "6bcb50d9-eea6-410c-87d5-1bc37026881f"
      },
      "outputs": [
        {
          "output_type": "stream",
          "name": "stdout",
          "text": [
            "Drive already mounted at /content/drive; to attempt to forcibly remount, call drive.mount(\"/content/drive\", force_remount=True).\n"
          ]
        }
      ],
      "source": [
        "from google.colab import drive\n",
        "drive.mount('/content/drive')"
      ]
    },
    {
      "cell_type": "code",
      "source": [
        "import os\n",
        "import cv2\n",
        "from PIL import Image\n",
        "import tensorflow as tf\n",
        "from keras import backend as K\n",
        "from keras.models import load_model\n",
        "from keras.preprocessing.image import img_to_array\n",
        "from tensorflow.keras.optimizers import Adam, RMSprop\n",
        "from tensorflow.keras.callbacks import ReduceLROnPlateau\n",
        "from tensorflow.keras.preprocessing.image import ImageDataGenerator"
      ],
      "metadata": {
        "id": "Lh3l30N3JizF"
      },
      "execution_count": 2,
      "outputs": []
    },
    {
      "cell_type": "code",
      "source": [
        "base_dir = '/content/drive/MyDrive/UGent/Sem1/MachinaalLeren/sprint3/collected_raw'\n",
        "train_dir = '/content/drive/MyDrive/UGent/Sem1/MachinaalLeren/sprint3/collected_raw/train'\n",
        "test_dir = '/content/drive/MyDrive/UGent/Sem1/MachinaalLeren/sprint3/collected_raw/test'\n",
        "val_dir = '/content/drive/MyDrive/UGent/Sem1/MachinaalLeren/sprint3/collected_raw/val'\n",
        "\n",
        "train_dir_neg = '/content/drive/MyDrive/UGent/Sem1/MachinaalLeren/sprint3/collected_raw/train/train_neg'\n",
        "train_dir_pos = '/content/drive/MyDrive/UGent/Sem1/MachinaalLeren/sprint3/collected_raw/train/train_pos'\n",
        "\n",
        "test_dir_neg = '/content/drive/MyDrive/UGent/Sem1/MachinaalLeren/sprint3/collected_raw/test/test_neg'\n",
        "test_dir_pos = '/content/drive/MyDrive/UGent/Sem1/MachinaalLeren/sprint3/collected_raw/test/test_pos'\n",
        "\n",
        "val_dir_neg = '/content/drive/MyDrive/UGent/Sem1/MachinaalLeren/sprint3/collected_raw/val/val_neg'\n",
        "val_dir_pos = '/content/drive/MyDrive/UGent/Sem1/MachinaalLeren/sprint3/collected_raw/val/val_pos'"
      ],
      "metadata": {
        "id": "Fe_CbPBCJlhR"
      },
      "execution_count": 3,
      "outputs": []
    },
    {
      "cell_type": "code",
      "source": [
        "num_neg_train = len(os.listdir(train_dir_neg))\n",
        "num_neg_test = len(os.listdir(test_dir_neg))\n",
        "num_neg_val = len(os.listdir(val_dir_neg))\n",
        "\n",
        "num_pos_train = len(os.listdir(train_dir_pos))\n",
        "num_pos_test = len(os.listdir(test_dir_pos))\n",
        "num_pos_val = len(os.listdir(val_dir_pos))"
      ],
      "metadata": {
        "id": "VwTa0vBuLDpR"
      },
      "execution_count": 4,
      "outputs": []
    },
    {
      "cell_type": "code",
      "source": [
        "print(\"Total Negative train Images\",num_neg_train)\n",
        "print(\"Total Negative test Images\",num_neg_test)\n",
        "print(\"Total Negative val Images\",num_neg_val)\n",
        "print(\"--\")\n",
        "print(\"Total Positive train Images\",num_pos_train)\n",
        "print(\"Total Positive test Images\",num_pos_test)\n",
        "print(\"Total Positive val Images\",num_pos_val)\n",
        "print(\"--\")\n",
        "\n",
        "total_train = num_neg_train + num_pos_train\n",
        "total_validation = num_neg_val + num_pos_val\n",
        "total_test = num_neg_test + num_pos_test\n",
        "\n",
        "print(\"--\")\n",
        "print(\"Total Images\",total_train + total_validation + total_test)\n",
        "print(\"Total Training Images\",total_train)\n",
        "print(\"--\")\n",
        "print(\"Total Validation Images\",total_validation)\n",
        "print(\"--\")\n",
        "print(\"Total Testing Images\",total_test)"
      ],
      "metadata": {
        "colab": {
          "base_uri": "https://localhost:8080/"
        },
        "id": "Qcc7V_ctLN4w",
        "outputId": "4c3cd35c-1ace-4417-cebc-95398c003cd8"
      },
      "execution_count": 5,
      "outputs": [
        {
          "output_type": "stream",
          "name": "stdout",
          "text": [
            "Total Negative train Images 251\n",
            "Total Negative test Images 54\n",
            "Total Negative val Images 54\n",
            "--\n",
            "Total Positive train Images 582\n",
            "Total Positive test Images 124\n",
            "Total Positive val Images 124\n",
            "--\n",
            "--\n",
            "Total Images 1189\n",
            "Total Training Images 833\n",
            "--\n",
            "Total Validation Images 178\n",
            "--\n",
            "Total Testing Images 178\n"
          ]
        }
      ]
    },
    {
      "cell_type": "code",
      "source": [
        "IMG_SHAPE  = 224\n",
        "batch_size = 32"
      ],
      "metadata": {
        "id": "PESH6IPBLWgk"
      },
      "execution_count": 6,
      "outputs": []
    },
    {
      "cell_type": "code",
      "source": [
        "image_gen_train = ImageDataGenerator(rescale = 1./255)\n",
        "train_data_gen = image_gen_train.flow_from_directory(batch_size = batch_size,\n",
        "directory = train_dir,\n",
        "shuffle= True,\n",
        "target_size = (IMG_SHAPE,IMG_SHAPE),\n",
        "class_mode = 'binary')\n",
        "\n",
        "image_generator_validation = ImageDataGenerator(rescale=1./255)\n",
        "val_data_gen = image_generator_validation.flow_from_directory(batch_size=batch_size,\n",
        "directory=val_dir,\n",
        "target_size=(IMG_SHAPE, IMG_SHAPE),\n",
        "class_mode='binary')\n",
        "\n",
        "image_gen_test = ImageDataGenerator(rescale=1./255)\n",
        "test_data_gen = image_gen_test.flow_from_directory(batch_size=batch_size,\n",
        "directory=test_dir,\n",
        "target_size=(IMG_SHAPE, IMG_SHAPE),\n",
        "class_mode='binary')"
      ],
      "metadata": {
        "colab": {
          "base_uri": "https://localhost:8080/"
        },
        "id": "_tMk5UEMUcC2",
        "outputId": "a02f1c91-e65b-4660-9214-93674b156bf0"
      },
      "execution_count": 7,
      "outputs": [
        {
          "output_type": "stream",
          "name": "stdout",
          "text": [
            "Found 833 images belonging to 2 classes.\n",
            "Found 178 images belonging to 2 classes.\n",
            "Found 178 images belonging to 2 classes.\n"
          ]
        }
      ]
    },
    {
      "cell_type": "code",
      "source": [
        "pre_trained_model = tf.keras.applications.VGG16(input_shape=(224, 224, 3), include_top=False, weights=\"imagenet\")"
      ],
      "metadata": {
        "id": "e4M7I0ZgWWeK"
      },
      "execution_count": 8,
      "outputs": []
    },
    {
      "cell_type": "code",
      "source": [
        "for layer in pre_trained_model.layers:\n",
        "  print(layer.name)\n",
        "  layer.trainable = False"
      ],
      "metadata": {
        "colab": {
          "base_uri": "https://localhost:8080/"
        },
        "id": "WyQqOE6FWZE4",
        "outputId": "c521e701-0d9e-4eec-80e1-3d6c449aa3a8"
      },
      "execution_count": 9,
      "outputs": [
        {
          "output_type": "stream",
          "name": "stdout",
          "text": [
            "input_1\n",
            "block1_conv1\n",
            "block1_conv2\n",
            "block1_pool\n",
            "block2_conv1\n",
            "block2_conv2\n",
            "block2_pool\n",
            "block3_conv1\n",
            "block3_conv2\n",
            "block3_conv3\n",
            "block3_pool\n",
            "block4_conv1\n",
            "block4_conv2\n",
            "block4_conv3\n",
            "block4_pool\n",
            "block5_conv1\n",
            "block5_conv2\n",
            "block5_conv3\n",
            "block5_pool\n"
          ]
        }
      ]
    },
    {
      "cell_type": "code",
      "source": [
        "last_layer = pre_trained_model.get_layer('block5_pool')\n",
        "last_output = last_layer.output\n",
        "x = tf.keras.layers.GlobalMaxPooling2D()(last_output)\n",
        "x = tf.keras.layers.Dense(512, activation='relu')(x)\n",
        "x = tf.keras.layers.Dropout(0.5)(x)\n",
        "x = tf.keras.layers.Dense(2, activation='sigmoid')(x)"
      ],
      "metadata": {
        "id": "JVrvaUYGWbgI"
      },
      "execution_count": 10,
      "outputs": []
    },
    {
      "cell_type": "code",
      "source": [
        "model = tf.keras.Model(pre_trained_model.input, x)"
      ],
      "metadata": {
        "id": "DXusE4RuWctG"
      },
      "execution_count": 11,
      "outputs": []
    },
    {
      "cell_type": "code",
      "source": [
        "model.compile(optimizer='adam', loss=tf.keras.losses.sparse_categorical_crossentropy, metrics=['acc'])"
      ],
      "metadata": {
        "id": "VgP0n9nVWdxY"
      },
      "execution_count": 12,
      "outputs": []
    },
    {
      "cell_type": "code",
      "source": [
        "vgg_classifier = model.fit(train_data_gen,\n",
        "steps_per_epoch=(total_train//batch_size),\n",
        "epochs = 10,\n",
        "validation_data=val_data_gen,\n",
        "validation_steps=(total_validation//batch_size),\n",
        "batch_size = batch_size,\n",
        "verbose = 1)"
      ],
      "metadata": {
        "colab": {
          "base_uri": "https://localhost:8080/"
        },
        "id": "iCIbhhF8WfJi",
        "outputId": "2583aa53-e11d-41d8-f759-8f54f6bca708"
      },
      "execution_count": 13,
      "outputs": [
        {
          "output_type": "stream",
          "name": "stdout",
          "text": [
            "Epoch 1/10\n",
            "26/26 [==============================] - 23s 410ms/step - loss: 0.4776 - acc: 0.8152 - val_loss: 0.4757 - val_acc: 0.7625\n",
            "Epoch 2/10\n",
            "26/26 [==============================] - 11s 404ms/step - loss: 0.1987 - acc: 0.9176 - val_loss: 0.4983 - val_acc: 0.7437\n",
            "Epoch 3/10\n",
            "26/26 [==============================] - 10s 365ms/step - loss: 0.1219 - acc: 0.9488 - val_loss: 0.4859 - val_acc: 0.7625\n",
            "Epoch 4/10\n",
            "26/26 [==============================] - 10s 364ms/step - loss: 0.0847 - acc: 0.9675 - val_loss: 0.3006 - val_acc: 0.8500\n",
            "Epoch 5/10\n",
            "26/26 [==============================] - 10s 370ms/step - loss: 0.0781 - acc: 0.9688 - val_loss: 0.3620 - val_acc: 0.8250\n",
            "Epoch 6/10\n",
            "26/26 [==============================] - 10s 368ms/step - loss: 0.0469 - acc: 0.9800 - val_loss: 0.3396 - val_acc: 0.8562\n",
            "Epoch 7/10\n",
            "26/26 [==============================] - 10s 364ms/step - loss: 0.0405 - acc: 0.9913 - val_loss: 0.2076 - val_acc: 0.9000\n",
            "Epoch 8/10\n",
            "26/26 [==============================] - 10s 364ms/step - loss: 0.0344 - acc: 0.9900 - val_loss: 0.4484 - val_acc: 0.8188\n",
            "Epoch 9/10\n",
            "26/26 [==============================] - 10s 364ms/step - loss: 0.0245 - acc: 0.9975 - val_loss: 0.3481 - val_acc: 0.8500\n",
            "Epoch 10/10\n",
            "26/26 [==============================] - 9s 361ms/step - loss: 0.0195 - acc: 0.9963 - val_loss: 0.3396 - val_acc: 0.8875\n"
          ]
        }
      ]
    },
    {
      "cell_type": "code",
      "source": [
        "result = model.evaluate(test_data_gen,batch_size=batch_size)\n",
        "print(\"test_loss, test accuracy\",result)"
      ],
      "metadata": {
        "colab": {
          "base_uri": "https://localhost:8080/"
        },
        "id": "WUs-pO8tW9D8",
        "outputId": "fce34a25-99e2-4d54-ce57-034ff0ce0381"
      },
      "execution_count": 14,
      "outputs": [
        {
          "output_type": "stream",
          "name": "stdout",
          "text": [
            "6/6 [==============================] - 97s 19s/step - loss: 0.5567 - acc: 0.8034\n",
            "test_loss, test accuracy [0.5567311644554138, 0.8033707737922668]\n"
          ]
        }
      ]
    },
    {
      "cell_type": "code",
      "source": [
        "from matplotlib import pyplot as plt\n",
        "plt.plot(vgg_classifier.history['acc'])\n",
        "plt.plot(vgg_classifier.history['val_acc'])\n",
        "plt.title('model accuracy')\n",
        "plt.ylabel('accuracy')\n",
        "plt.xlabel('epoch')\n",
        "plt.legend(['train', 'val'], loc='upper left')\n",
        "plt.show()"
      ],
      "metadata": {
        "colab": {
          "base_uri": "https://localhost:8080/",
          "height": 295
        },
        "id": "CCoSiEYglCzw",
        "outputId": "4c0726a8-0d4d-4df8-de88-6c7fea490f18"
      },
      "execution_count": 15,
      "outputs": [
        {
          "output_type": "display_data",
          "data": {
            "image/png": "[encoded data removed]",
            "text/plain": [
              "<Figure size 432x288 with 1 Axes>"
            ]
          },
          "metadata": {
            "needs_background": "light"
          }
        }
      ]
    },
    {
      "cell_type": "code",
      "source": [
        "from matplotlib import pyplot as plt\n",
        "plt.plot(vgg_classifier.history['loss'])\n",
        "plt.plot(vgg_classifier.history['val_loss'])\n",
        "plt.title('model loss')\n",
        "plt.ylabel('loss')\n",
        "plt.xlabel('epoch')\n",
        "plt.legend(['train', 'val'], loc='upper left')\n",
        "plt.show()"
      ],
      "metadata": {
        "colab": {
          "base_uri": "https://localhost:8080/",
          "height": 295
        },
        "id": "FF2zTu07lFbQ",
        "outputId": "a7f54d12-8e34-42dd-9c76-fb649651c8a5"
      },
      "execution_count": 16,
      "outputs": [
        {
          "output_type": "display_data",
          "data": {
            "image/png": "[encoded data removed]",
            "text/plain": [
              "<Figure size 432x288 with 1 Axes>"
            ]
          },
          "metadata": {
            "needs_background": "light"
          }
        }
      ]
    },
    {
      "cell_type": "code",
      "source": [
        "model_json = model.to_json()\n",
        "with open(\"/content/drive/MyDrive/UGent/Sem1/MachinaalLeren/sprint3/VGG_Stair_Detector.json\", \"w\") as json_file:\n",
        "  json_file.write(model_json)\n",
        "  model.save(\"/content/drive/MyDrive/UGent/Sem1/MachinaalLeren/sprint3/VGG_Stair_Detector.h5\")\n",
        "  print(\"Saved model to disk\")\n",
        "  model.save_weights(\"/content/drive/MyDrive/UGent/Sem1/MachinaalLeren/sprint3/VGG_Stair_Weights.h5\")"
      ],
      "metadata": {
        "colab": {
          "base_uri": "https://localhost:8080/"
        },
        "id": "IUrGu9HOXCCo",
        "outputId": "d6049866-cbcf-422b-9b40-0df895f99c9d"
      },
      "execution_count": 17,
      "outputs": [
        {
          "output_type": "stream",
          "name": "stdout",
          "text": [
            "Saved model to disk\n"
          ]
        }
      ]
    }
  ]
}