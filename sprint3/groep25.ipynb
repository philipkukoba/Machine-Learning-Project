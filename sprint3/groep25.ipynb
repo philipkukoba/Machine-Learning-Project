{
 "cells": [
  {
   "cell_type": "markdown",
   "metadata": {},
   "source": [
    "# Machinaal Leren - Sprint 3: Multiple data sources\n",
    "\n",
    "## Task:\n",
    "Use the images or external data sources (eg. Ghent open data)\n",
    "\n",
    "Possible tasks:\n",
    "* Use the images to find similar listings (e.g. similar interior style)\n",
    "* Cluster the images\n",
    "* Automatically detect attributes of the listing (e.g. garden, bath, shower, washing machine, ...) based on the images\n",
    "* Find duplicate listings based on the images\n",
    "* Detect anomalies (rooms that look very different)\n",
    "* Predict which room a picture is taken in (bedroom, bathroom, outside, ...)\n",
    "* Combine with external data to better predict the price (e.g. location of public transport, proximity to attractions, ...)\n",
    "* ..."
   ]
  },
  {
   "cell_type": "markdown",
   "metadata": {},
   "source": [
    "## Work table\n",
    "\n",
    "|Task|Peter Bonnarens|Philip Kukoba|Lennert Franssens|\n",
    "|------|------|------|------|\n",
    "|1. Loading and cleaning dataset  | X |  |  |\n",
    "|2. Find similar listings  |  |  |   |\n",
    "|3. Find duplicate listings  |   |  |   |\n",
    "|4. Cluster the images  |   |   |  |\n",
    "|5. Detect attributes of the listing  |   |   |  |\n",
    "|6. Detect anomalies  |   |   |  |\n",
    "|7. Predict which room a picture is taken in  |   |   |  |\n",
    "|8. Use external data to better predict the price  |   |   |  |\n",
    "|9. Extra 1  |   |   |  |\n",
    "|10. Extra 2  |   |   |  |\n",
    "|11. Extra 3  |   |   |  |"
   ]
  },
  {
   "cell_type": "markdown",
   "metadata": {},
   "source": [
    "# **1 - LOADING AND CLEANING THE DATASET**"
   ]
  },
  {
   "cell_type": "markdown",
   "metadata": {},
   "source": [
    "## Import packages and read dataset\n",
    "Here we import the needed packages for this project and read the 'listings' dataset."
   ]
  },
  {
   "cell_type": "code",
   "execution_count": 1,
   "metadata": {},
   "outputs": [],
   "source": [
    "%matplotlib inline\n",
    "import numpy as np\n",
    "import pandas as pd\n",
    "import matplotlib.pyplot as plt\n",
    "import warnings\n",
    "\n",
    "# remove warnings from output\n",
    "warnings.filterwarnings('ignore')\n",
    "warnings.simplefilter('ignore')\n",
    "\n",
    "# matplotplib figure size in inches\n",
    "plt.rcParams['figure.figsize'] = 15,12\n",
    "\n",
    "# reading the dataset and making a pandas dataframe\n",
    "listings = pd.read_csv(\"data/listings.csv\")"
   ]
  },
  {
   "cell_type": "markdown",
   "metadata": {},
   "source": [
    "## Cleaning the 'listings' dataset\n",
    "\n",
    "TODO: write text"
   ]
  },
  {
   "cell_type": "code",
   "execution_count": null,
   "metadata": {},
   "outputs": [],
   "source": [
    "# TODO: clean the listings dataset"
   ]
  },
  {
   "cell_type": "markdown",
   "metadata": {},
   "source": [
    "# **2 - FINDING SIMILAR LISTINGS BASED ON THE IMAGES**"
   ]
  },
  {
   "cell_type": "markdown",
   "metadata": {},
   "source": [
    "# **3 - FINDING DUPLICATE LISTINGS BASED ON THE IMAGES**"
   ]
  },
  {
   "cell_type": "markdown",
   "metadata": {},
   "source": [
    "# **4 - CLUSTERING THE IMAGES**"
   ]
  },
  {
   "cell_type": "markdown",
   "metadata": {},
   "source": [
    "# **5 - AUTOMATICALLY DETECT ATTRIBUTES OF LISTINGS BASED ON THE IMAGES**"
   ]
  },
  {
   "cell_type": "markdown",
   "metadata": {},
   "source": [
    "# **6 - DETECTING ANOMALIES BASED ON THE IMAGES**"
   ]
  },
  {
   "cell_type": "markdown",
   "metadata": {},
   "source": [
    "# **7 - PREDICTING WHICH ROOM A PICTURE IS TAKEN IN**"
   ]
  },
  {
   "cell_type": "markdown",
   "metadata": {},
   "source": [
    "# **8 - USING EXTERNAL DATA TO BETTER PREDICT THE PRICE**"
   ]
  },
  {
   "cell_type": "markdown",
   "metadata": {},
   "source": [
    "# **9 - EXTRA 1**"
   ]
  },
  {
   "cell_type": "markdown",
   "metadata": {},
   "source": [
    "# **10 - EXTRA 2**"
   ]
  },
  {
   "cell_type": "markdown",
   "metadata": {},
   "source": [
    "# **11 - EXTRA 3**"
   ]
  }
 ],
 "metadata": {
  "interpreter": {
   "hash": "ece5b934e5507bb10d71fe477ed4928a6f8f0a8a03212c3c5909a754786da47a"
  },
  "kernelspec": {
   "display_name": "Python 3.8.8 64-bit ('base': conda)",
   "language": "python",
   "name": "python3"
  },
  "language_info": {
   "codemirror_mode": {
    "name": "ipython",
    "version": 3
   },
   "file_extension": ".py",
   "mimetype": "text/x-python",
   "name": "python",
   "nbconvert_exporter": "python",
   "pygments_lexer": "ipython3",
   "version": "3.8.8"
  },
  "orig_nbformat": 4
 },
 "nbformat": 4,
 "nbformat_minor": 2
}
